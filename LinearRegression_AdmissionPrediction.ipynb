{
  "nbformat": 4,
  "nbformat_minor": 0,
  "metadata": {
    "colab": {
      "name": "LinearRegression_AdmissionPrediction.ipynb",
      "provenance": [],
      "include_colab_link": true
    },
    "kernelspec": {
      "name": "python3",
      "display_name": "Python 3"
    }
  },
  "cells": [
    {
      "cell_type": "markdown",
      "metadata": {
        "id": "view-in-github",
        "colab_type": "text"
      },
      "source": [
        "<a href=\"https://colab.research.google.com/github/hemantupadhyay24/Machine-Learning-/blob/master/LinearRegression_AdmissionPrediction.ipynb\" target=\"_parent\"><img src=\"https://colab.research.google.com/assets/colab-badge.svg\" alt=\"Open In Colab\"/></a>"
      ]
    },
    {
      "cell_type": "code",
      "metadata": {
        "id": "HJUuXTwZgICb",
        "colab_type": "code",
        "outputId": "83a33c33-d430-49dc-ef2d-b691b7eee8b3",
        "colab": {
          "base_uri": "https://localhost:8080/",
          "height": 206
        }
      },
      "source": [
        "import numpy as np\n",
        "import pandas as pd \n",
        "import seaborn as sns\n",
        "import matplotlib.pyplot as plt\n",
        "\n",
        "dataset=pd.read_csv(\"/content/Admission_Predict_Ver1.1.csv\")\n",
        "dataset.head()"
      ],
      "execution_count": 0,
      "outputs": [
        {
          "output_type": "execute_result",
          "data": {
            "text/html": [
              "<div>\n",
              "<style scoped>\n",
              "    .dataframe tbody tr th:only-of-type {\n",
              "        vertical-align: middle;\n",
              "    }\n",
              "\n",
              "    .dataframe tbody tr th {\n",
              "        vertical-align: top;\n",
              "    }\n",
              "\n",
              "    .dataframe thead th {\n",
              "        text-align: right;\n",
              "    }\n",
              "</style>\n",
              "<table border=\"1\" class=\"dataframe\">\n",
              "  <thead>\n",
              "    <tr style=\"text-align: right;\">\n",
              "      <th></th>\n",
              "      <th>Serial No.</th>\n",
              "      <th>GRE Score</th>\n",
              "      <th>TOEFL Score</th>\n",
              "      <th>University Rating</th>\n",
              "      <th>SOP</th>\n",
              "      <th>LOR</th>\n",
              "      <th>CGPA</th>\n",
              "      <th>Research</th>\n",
              "      <th>Chance of Admit</th>\n",
              "    </tr>\n",
              "  </thead>\n",
              "  <tbody>\n",
              "    <tr>\n",
              "      <th>0</th>\n",
              "      <td>1</td>\n",
              "      <td>337</td>\n",
              "      <td>118</td>\n",
              "      <td>4</td>\n",
              "      <td>4.5</td>\n",
              "      <td>4.5</td>\n",
              "      <td>9.65</td>\n",
              "      <td>1</td>\n",
              "      <td>0.92</td>\n",
              "    </tr>\n",
              "    <tr>\n",
              "      <th>1</th>\n",
              "      <td>2</td>\n",
              "      <td>324</td>\n",
              "      <td>107</td>\n",
              "      <td>4</td>\n",
              "      <td>4.0</td>\n",
              "      <td>4.5</td>\n",
              "      <td>8.87</td>\n",
              "      <td>1</td>\n",
              "      <td>0.76</td>\n",
              "    </tr>\n",
              "    <tr>\n",
              "      <th>2</th>\n",
              "      <td>3</td>\n",
              "      <td>316</td>\n",
              "      <td>104</td>\n",
              "      <td>3</td>\n",
              "      <td>3.0</td>\n",
              "      <td>3.5</td>\n",
              "      <td>8.00</td>\n",
              "      <td>1</td>\n",
              "      <td>0.72</td>\n",
              "    </tr>\n",
              "    <tr>\n",
              "      <th>3</th>\n",
              "      <td>4</td>\n",
              "      <td>322</td>\n",
              "      <td>110</td>\n",
              "      <td>3</td>\n",
              "      <td>3.5</td>\n",
              "      <td>2.5</td>\n",
              "      <td>8.67</td>\n",
              "      <td>1</td>\n",
              "      <td>0.80</td>\n",
              "    </tr>\n",
              "    <tr>\n",
              "      <th>4</th>\n",
              "      <td>5</td>\n",
              "      <td>314</td>\n",
              "      <td>103</td>\n",
              "      <td>2</td>\n",
              "      <td>2.0</td>\n",
              "      <td>3.0</td>\n",
              "      <td>8.21</td>\n",
              "      <td>0</td>\n",
              "      <td>0.65</td>\n",
              "    </tr>\n",
              "  </tbody>\n",
              "</table>\n",
              "</div>"
            ],
            "text/plain": [
              "   Serial No.  GRE Score  TOEFL Score  ...  CGPA  Research  Chance of Admit \n",
              "0           1        337          118  ...  9.65         1              0.92\n",
              "1           2        324          107  ...  8.87         1              0.76\n",
              "2           3        316          104  ...  8.00         1              0.72\n",
              "3           4        322          110  ...  8.67         1              0.80\n",
              "4           5        314          103  ...  8.21         0              0.65\n",
              "\n",
              "[5 rows x 9 columns]"
            ]
          },
          "metadata": {
            "tags": []
          },
          "execution_count": 3
        }
      ]
    },
    {
      "cell_type": "code",
      "metadata": {
        "id": "XKpy_YexhJi_",
        "colab_type": "code",
        "outputId": "ef28feb8-20b9-4e4b-db56-b796853e4dca",
        "colab": {
          "base_uri": "https://localhost:8080/",
          "height": 206
        }
      },
      "source": [
        "\n",
        "updated_dataset=dataset.iloc[:,1:9]\n",
        "updated_dataset.head()"
      ],
      "execution_count": 0,
      "outputs": [
        {
          "output_type": "execute_result",
          "data": {
            "text/html": [
              "<div>\n",
              "<style scoped>\n",
              "    .dataframe tbody tr th:only-of-type {\n",
              "        vertical-align: middle;\n",
              "    }\n",
              "\n",
              "    .dataframe tbody tr th {\n",
              "        vertical-align: top;\n",
              "    }\n",
              "\n",
              "    .dataframe thead th {\n",
              "        text-align: right;\n",
              "    }\n",
              "</style>\n",
              "<table border=\"1\" class=\"dataframe\">\n",
              "  <thead>\n",
              "    <tr style=\"text-align: right;\">\n",
              "      <th></th>\n",
              "      <th>GRE Score</th>\n",
              "      <th>TOEFL Score</th>\n",
              "      <th>University Rating</th>\n",
              "      <th>SOP</th>\n",
              "      <th>LOR</th>\n",
              "      <th>CGPA</th>\n",
              "      <th>Research</th>\n",
              "      <th>Chance of Admit</th>\n",
              "    </tr>\n",
              "  </thead>\n",
              "  <tbody>\n",
              "    <tr>\n",
              "      <th>0</th>\n",
              "      <td>337</td>\n",
              "      <td>118</td>\n",
              "      <td>4</td>\n",
              "      <td>4.5</td>\n",
              "      <td>4.5</td>\n",
              "      <td>9.65</td>\n",
              "      <td>1</td>\n",
              "      <td>0.92</td>\n",
              "    </tr>\n",
              "    <tr>\n",
              "      <th>1</th>\n",
              "      <td>324</td>\n",
              "      <td>107</td>\n",
              "      <td>4</td>\n",
              "      <td>4.0</td>\n",
              "      <td>4.5</td>\n",
              "      <td>8.87</td>\n",
              "      <td>1</td>\n",
              "      <td>0.76</td>\n",
              "    </tr>\n",
              "    <tr>\n",
              "      <th>2</th>\n",
              "      <td>316</td>\n",
              "      <td>104</td>\n",
              "      <td>3</td>\n",
              "      <td>3.0</td>\n",
              "      <td>3.5</td>\n",
              "      <td>8.00</td>\n",
              "      <td>1</td>\n",
              "      <td>0.72</td>\n",
              "    </tr>\n",
              "    <tr>\n",
              "      <th>3</th>\n",
              "      <td>322</td>\n",
              "      <td>110</td>\n",
              "      <td>3</td>\n",
              "      <td>3.5</td>\n",
              "      <td>2.5</td>\n",
              "      <td>8.67</td>\n",
              "      <td>1</td>\n",
              "      <td>0.80</td>\n",
              "    </tr>\n",
              "    <tr>\n",
              "      <th>4</th>\n",
              "      <td>314</td>\n",
              "      <td>103</td>\n",
              "      <td>2</td>\n",
              "      <td>2.0</td>\n",
              "      <td>3.0</td>\n",
              "      <td>8.21</td>\n",
              "      <td>0</td>\n",
              "      <td>0.65</td>\n",
              "    </tr>\n",
              "  </tbody>\n",
              "</table>\n",
              "</div>"
            ],
            "text/plain": [
              "   GRE Score  TOEFL Score  University Rating  ...  CGPA  Research  Chance of Admit \n",
              "0        337          118                  4  ...  9.65         1              0.92\n",
              "1        324          107                  4  ...  8.87         1              0.76\n",
              "2        316          104                  3  ...  8.00         1              0.72\n",
              "3        322          110                  3  ...  8.67         1              0.80\n",
              "4        314          103                  2  ...  8.21         0              0.65\n",
              "\n",
              "[5 rows x 8 columns]"
            ]
          },
          "metadata": {
            "tags": []
          },
          "execution_count": 4
        }
      ]
    },
    {
      "cell_type": "code",
      "metadata": {
        "id": "oIQvgCTah5bo",
        "colab_type": "code",
        "outputId": "45134208-94ad-446d-a10c-a2f4d265a85c",
        "colab": {
          "base_uri": "https://localhost:8080/",
          "height": 173
        }
      },
      "source": [
        "updated_dataset.isna().sum()"
      ],
      "execution_count": 0,
      "outputs": [
        {
          "output_type": "execute_result",
          "data": {
            "text/plain": [
              "GRE Score            0\n",
              "TOEFL Score          0\n",
              "University Rating    0\n",
              "SOP                  0\n",
              "LOR                  0\n",
              "CGPA                 0\n",
              "Research             0\n",
              "Chance of Admit      0\n",
              "dtype: int64"
            ]
          },
          "metadata": {
            "tags": []
          },
          "execution_count": 5
        }
      ]
    },
    {
      "cell_type": "code",
      "metadata": {
        "id": "DVHGNc3liiZE",
        "colab_type": "code",
        "outputId": "3c384994-768b-4866-f3eb-e538490c0144",
        "colab": {
          "base_uri": "https://localhost:8080/",
          "height": 300
        }
      },
      "source": [
        "updated_dataset.corr(method=\"pearson\")"
      ],
      "execution_count": 0,
      "outputs": [
        {
          "output_type": "execute_result",
          "data": {
            "text/html": [
              "<div>\n",
              "<style scoped>\n",
              "    .dataframe tbody tr th:only-of-type {\n",
              "        vertical-align: middle;\n",
              "    }\n",
              "\n",
              "    .dataframe tbody tr th {\n",
              "        vertical-align: top;\n",
              "    }\n",
              "\n",
              "    .dataframe thead th {\n",
              "        text-align: right;\n",
              "    }\n",
              "</style>\n",
              "<table border=\"1\" class=\"dataframe\">\n",
              "  <thead>\n",
              "    <tr style=\"text-align: right;\">\n",
              "      <th></th>\n",
              "      <th>GRE Score</th>\n",
              "      <th>TOEFL Score</th>\n",
              "      <th>University Rating</th>\n",
              "      <th>SOP</th>\n",
              "      <th>LOR</th>\n",
              "      <th>CGPA</th>\n",
              "      <th>Research</th>\n",
              "      <th>Chance of Admit</th>\n",
              "    </tr>\n",
              "  </thead>\n",
              "  <tbody>\n",
              "    <tr>\n",
              "      <th>GRE Score</th>\n",
              "      <td>1.000000</td>\n",
              "      <td>0.827200</td>\n",
              "      <td>0.635376</td>\n",
              "      <td>0.613498</td>\n",
              "      <td>0.524679</td>\n",
              "      <td>0.825878</td>\n",
              "      <td>0.563398</td>\n",
              "      <td>0.810351</td>\n",
              "    </tr>\n",
              "    <tr>\n",
              "      <th>TOEFL Score</th>\n",
              "      <td>0.827200</td>\n",
              "      <td>1.000000</td>\n",
              "      <td>0.649799</td>\n",
              "      <td>0.644410</td>\n",
              "      <td>0.541563</td>\n",
              "      <td>0.810574</td>\n",
              "      <td>0.467012</td>\n",
              "      <td>0.792228</td>\n",
              "    </tr>\n",
              "    <tr>\n",
              "      <th>University Rating</th>\n",
              "      <td>0.635376</td>\n",
              "      <td>0.649799</td>\n",
              "      <td>1.000000</td>\n",
              "      <td>0.728024</td>\n",
              "      <td>0.608651</td>\n",
              "      <td>0.705254</td>\n",
              "      <td>0.427047</td>\n",
              "      <td>0.690132</td>\n",
              "    </tr>\n",
              "    <tr>\n",
              "      <th>SOP</th>\n",
              "      <td>0.613498</td>\n",
              "      <td>0.644410</td>\n",
              "      <td>0.728024</td>\n",
              "      <td>1.000000</td>\n",
              "      <td>0.663707</td>\n",
              "      <td>0.712154</td>\n",
              "      <td>0.408116</td>\n",
              "      <td>0.684137</td>\n",
              "    </tr>\n",
              "    <tr>\n",
              "      <th>LOR</th>\n",
              "      <td>0.524679</td>\n",
              "      <td>0.541563</td>\n",
              "      <td>0.608651</td>\n",
              "      <td>0.663707</td>\n",
              "      <td>1.000000</td>\n",
              "      <td>0.637469</td>\n",
              "      <td>0.372526</td>\n",
              "      <td>0.645365</td>\n",
              "    </tr>\n",
              "    <tr>\n",
              "      <th>CGPA</th>\n",
              "      <td>0.825878</td>\n",
              "      <td>0.810574</td>\n",
              "      <td>0.705254</td>\n",
              "      <td>0.712154</td>\n",
              "      <td>0.637469</td>\n",
              "      <td>1.000000</td>\n",
              "      <td>0.501311</td>\n",
              "      <td>0.882413</td>\n",
              "    </tr>\n",
              "    <tr>\n",
              "      <th>Research</th>\n",
              "      <td>0.563398</td>\n",
              "      <td>0.467012</td>\n",
              "      <td>0.427047</td>\n",
              "      <td>0.408116</td>\n",
              "      <td>0.372526</td>\n",
              "      <td>0.501311</td>\n",
              "      <td>1.000000</td>\n",
              "      <td>0.545871</td>\n",
              "    </tr>\n",
              "    <tr>\n",
              "      <th>Chance of Admit</th>\n",
              "      <td>0.810351</td>\n",
              "      <td>0.792228</td>\n",
              "      <td>0.690132</td>\n",
              "      <td>0.684137</td>\n",
              "      <td>0.645365</td>\n",
              "      <td>0.882413</td>\n",
              "      <td>0.545871</td>\n",
              "      <td>1.000000</td>\n",
              "    </tr>\n",
              "  </tbody>\n",
              "</table>\n",
              "</div>"
            ],
            "text/plain": [
              "                   GRE Score  TOEFL Score  ...  Research  Chance of Admit \n",
              "GRE Score           1.000000     0.827200  ...  0.563398          0.810351\n",
              "TOEFL Score         0.827200     1.000000  ...  0.467012          0.792228\n",
              "University Rating   0.635376     0.649799  ...  0.427047          0.690132\n",
              "SOP                 0.613498     0.644410  ...  0.408116          0.684137\n",
              "LOR                 0.524679     0.541563  ...  0.372526          0.645365\n",
              "CGPA                0.825878     0.810574  ...  0.501311          0.882413\n",
              "Research            0.563398     0.467012  ...  1.000000          0.545871\n",
              "Chance of Admit     0.810351     0.792228  ...  0.545871          1.000000\n",
              "\n",
              "[8 rows x 8 columns]"
            ]
          },
          "metadata": {
            "tags": []
          },
          "execution_count": 6
        }
      ]
    },
    {
      "cell_type": "code",
      "metadata": {
        "id": "Vqwh4Qz_iunb",
        "colab_type": "code",
        "outputId": "6023d039-6455-4e97-e046-afb7a9534ebc",
        "colab": {
          "base_uri": "https://localhost:8080/",
          "height": 1000
        }
      },
      "source": [
        "plt.subplots(figsize=(20,4))\n",
        "sns.barplot(x=\"GRE Score\",y=\"Chance of Admit \",data=dataset)\n",
        "plt.subplots(figsize=(25,5))\n",
        "sns.barplot(x=\"TOEFL Score\",y=\"Chance of Admit \",data=dataset)\n",
        "plt.subplots(figsize=(20,4))\n",
        "sns.barplot(x=\"University Rating\",y=\"Chance of Admit \",data=dataset)\n",
        "plt.subplots(figsize=(15,5))\n",
        "sns.barplot(x=\"SOP\",y=\"Chance of Admit \",data=dataset)\n",
        "#plt.subplots(figsize=(15,4))\n",
        "#sns.barplot(x=\"CGPA\",y=\"Chance of Admit \",data=dataset)\n",
        "plt.subplots(figsize=(15,5))\n",
        "sns.barplot(x=\"Research\",y=\"Chance of Admit \",data=dataset)\n",
        "\n"
      ],
      "execution_count": 0,
      "outputs": [
        {
          "output_type": "execute_result",
          "data": {
            "text/plain": [
              "<matplotlib.axes._subplots.AxesSubplot at 0x7fb4853dfcc0>"
            ]
          },
          "metadata": {
            "tags": []
          },
          "execution_count": 7
        },
        {
          "output_type": "display_data",
          "data": {
            "image/png": "[encoded data removed]",
            "text/plain": [
              "<Figure size 1440x288 with 1 Axes>"
            ]
          },
          "metadata": {
            "tags": []
          }
        },
        {
          "output_type": "display_data",
          "data": {
            "image/png": "[encoded data removed]",
            "text/plain": [
              "<Figure size 1800x360 with 1 Axes>"
            ]
          },
          "metadata": {
            "tags": []
          }
        },
        {
          "output_type": "display_data",
          "data": {
            "image/png": "[encoded data removed]",
            "text/plain": [
              "<Figure size 1440x288 with 1 Axes>"
            ]
          },
          "metadata": {
            "tags": []
          }
        },
        {
          "output_type": "display_data",
          "data": {
            "image/png": "[encoded data removed]",
            "text/plain": [
              "<Figure size 1080x360 with 1 Axes>"
            ]
          },
          "metadata": {
            "tags": []
          }
        },
        {
          "output_type": "display_data",
          "data": {
            "image/png": "[encoded data removed]",
            "text/plain": [
              "<Figure size 1080x360 with 1 Axes>"
            ]
          },
          "metadata": {
            "tags": []
          }
        }
      ]
    },
    {
      "cell_type": "code",
      "metadata": {
        "id": "PTVmBQnHjWiW",
        "colab_type": "code",
        "colab": {}
      },
      "source": [
        "X=updated_dataset.iloc[:,:7]\n",
        "y=updated_dataset[\"Chance of Admit \"]"
      ],
      "execution_count": 0,
      "outputs": []
    },
    {
      "cell_type": "code",
      "metadata": {
        "id": "Kt0qKwGGkVnq",
        "colab_type": "code",
        "colab": {}
      },
      "source": [
        "from sklearn.model_selection import train_test_split\n",
        "X_train,X_test,y_train,y_test=train_test_split(X,y,test_size=0.2,random_state=50)"
      ],
      "execution_count": 0,
      "outputs": []
    },
    {
      "cell_type": "code",
      "metadata": {
        "id": "yevJ4wjJkYVI",
        "colab_type": "code",
        "outputId": "93e4e6cf-4ee3-4df8-bb68-d04d2a61cf70",
        "colab": {
          "base_uri": "https://localhost:8080/",
          "height": 364
        }
      },
      "source": [
        "from sklearn.linear_model import LinearRegression\n",
        "#Linear Regression\n",
        "Linear=LinearRegression()\n",
        "Linear.fit(X_train,y_train)\n",
        "y_pred=Linear.predict(X_test)\n",
        "y_pred\n"
      ],
      "execution_count": 0,
      "outputs": [
        {
          "output_type": "execute_result",
          "data": {
            "text/plain": [
              "array([0.62858489, 0.5630453 , 0.62610849, 0.52278247, 0.50451666,\n",
              "       0.76156908, 0.90718643, 0.6458427 , 0.5415052 , 0.55657926,\n",
              "       0.96425939, 0.93686676, 0.78819729, 0.74752677, 0.77994022,\n",
              "       0.65097779, 0.77492475, 0.89655977, 0.66998219, 0.7928963 ,\n",
              "       0.67387898, 0.65227253, 0.68469348, 0.60918057, 0.65299459,\n",
              "       0.7319318 , 0.7324281 , 0.84755228, 0.68454267, 0.61497989,\n",
              "       0.99610597, 0.68451526, 0.86773922, 0.8851996 , 0.55217387,\n",
              "       0.72482522, 0.9660184 , 0.73846807, 0.96128332, 0.47471084,\n",
              "       0.95160397, 0.83413252, 0.69629798, 0.72724642, 0.80494755,\n",
              "       0.66388272, 0.74984219, 0.8369197 , 0.52067787, 0.83186697,\n",
              "       0.83943883, 0.81875093, 0.58809134, 0.66652365, 0.56024635,\n",
              "       0.79175916, 0.75478871, 0.97239619, 0.43578097, 0.58490642,\n",
              "       0.62547018, 0.96412368, 0.82489705, 0.88263358, 0.63923411,\n",
              "       0.64090726, 0.7174835 , 0.71048489, 0.56912616, 0.93739847,\n",
              "       0.9005515 , 0.72556868, 0.88482532, 0.7595775 , 0.66992726,\n",
              "       0.74146053, 0.48676416, 0.75690904, 0.85052356, 0.50132096,\n",
              "       0.92971167, 0.67403161, 0.6636211 , 0.69955928, 0.72056122,\n",
              "       0.75919814, 0.65180399, 0.96532185, 0.70593879, 0.90283934,\n",
              "       0.91317981, 0.60112217, 0.65271066, 0.95506407, 0.84952155,\n",
              "       0.79801842, 0.65473715, 0.78724765, 0.65840476, 0.79778498])"
            ]
          },
          "metadata": {
            "tags": []
          },
          "execution_count": 10
        }
      ]
    },
    {
      "cell_type": "code",
      "metadata": {
        "id": "4QAML-rekoL2",
        "colab_type": "code",
        "outputId": "7f60551f-4632-47be-ecbc-b98a2b5c9887",
        "colab": {
          "base_uri": "https://localhost:8080/",
          "height": 52
        }
      },
      "source": [
        "from sklearn.metrics import mean_absolute_error,r2_score\n",
        "print(\"R2 score of the model is \",r2_score(y_pred,y_test))\n",
        "print(\"mean_absolute_error  of the model is \",mean_absolute_error(y_pred,y_test))"
      ],
      "execution_count": 0,
      "outputs": [
        {
          "output_type": "stream",
          "text": [
            "R2 score of the model is  0.8206313959741904\n",
            "mean_absolute_error  of the model is  0.04040078799417788\n"
          ],
          "name": "stdout"
        }
      ]
    },
    {
      "cell_type": "code",
      "metadata": {
        "id": "W7DmOgRbkuM4",
        "colab_type": "code",
        "colab": {}
      },
      "source": [
        ""
      ],
      "execution_count": 0,
      "outputs": []
    }
  ]
}